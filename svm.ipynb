{
  "nbformat": 4,
  "nbformat_minor": 0,
  "metadata": {
    "colab": {
      "provenance": [],
      "collapsed_sections": [
        "wW9DvZFhx-xL",
        "VTGwlV_lO3b3"
      ]
    },
    "kernelspec": {
      "display_name": "Python 3",
      "name": "python3"
    },
    "language_info": {
      "name": "python"
    }
  },
  "cells": [
    {
      "cell_type": "markdown",
      "source": [
        "# Libraries"
      ],
      "metadata": {
        "id": "wW9DvZFhx-xL"
      }
    },
    {
      "cell_type": "code",
      "source": [
        "!pip install gdown"
      ],
      "metadata": {
        "colab": {
          "base_uri": "https://localhost:8080/"
        },
        "id": "vCs_dbJ_lCox",
        "outputId": "d9d0cada-8891-486f-e312-c3fc531db373"
      },
      "execution_count": null,
      "outputs": [
        {
          "output_type": "stream",
          "name": "stdout",
          "text": [
            "Requirement already satisfied: gdown in /usr/local/lib/python3.10/dist-packages (5.2.0)\n",
            "Requirement already satisfied: beautifulsoup4 in /usr/local/lib/python3.10/dist-packages (from gdown) (4.12.3)\n",
            "Requirement already satisfied: filelock in /usr/local/lib/python3.10/dist-packages (from gdown) (3.16.1)\n",
            "Requirement already satisfied: requests[socks] in /usr/local/lib/python3.10/dist-packages (from gdown) (2.32.3)\n",
            "Requirement already satisfied: tqdm in /usr/local/lib/python3.10/dist-packages (from gdown) (4.66.6)\n",
            "Requirement already satisfied: soupsieve>1.2 in /usr/local/lib/python3.10/dist-packages (from beautifulsoup4->gdown) (2.6)\n",
            "Requirement already satisfied: charset-normalizer<4,>=2 in /usr/local/lib/python3.10/dist-packages (from requests[socks]->gdown) (3.4.0)\n",
            "Requirement already satisfied: idna<4,>=2.5 in /usr/local/lib/python3.10/dist-packages (from requests[socks]->gdown) (3.10)\n",
            "Requirement already satisfied: urllib3<3,>=1.21.1 in /usr/local/lib/python3.10/dist-packages (from requests[socks]->gdown) (2.2.3)\n",
            "Requirement already satisfied: certifi>=2017.4.17 in /usr/local/lib/python3.10/dist-packages (from requests[socks]->gdown) (2024.8.30)\n",
            "Requirement already satisfied: PySocks!=1.5.7,>=1.5.6 in /usr/local/lib/python3.10/dist-packages (from requests[socks]->gdown) (1.7.1)\n"
          ]
        }
      ]
    },
    {
      "cell_type": "code",
      "source": [
        "import gdown\n",
        "\n",
        "url = 'https://drive.google.com/file/d/1LOWzDfuONO6YmSx1uR3ZxW49_04IZKuC/view?usp=sharing'\n",
        "output_path = 'avocado_prices.csv'\n",
        "gdown.download(url, output_path, quiet=False,fuzzy=True)\n",
        "\n",
        "url = 'https://drive.google.com/file/d/1tGvP3hFjaYqvB74X_tt2F_ydWoP8Wk0W/view?usp=sharing'\n",
        "output_path = 'Shanghai_license_plate_price.csv'\n",
        "gdown.download(url, output_path, quiet=False,fuzzy=True)"
      ],
      "metadata": {
        "colab": {
          "base_uri": "https://localhost:8080/",
          "height": 178
        },
        "id": "ZMrNtIjUlD5n",
        "outputId": "eba0e6fa-fe5d-4f9d-e302-e714865af1f6"
      },
      "execution_count": null,
      "outputs": [
        {
          "output_type": "stream",
          "name": "stderr",
          "text": [
            "Downloading...\n",
            "From: https://drive.google.com/uc?id=1LOWzDfuONO6YmSx1uR3ZxW49_04IZKuC\n",
            "To: /content/avocado_prices.csv\n",
            "100%|██████████| 1.99M/1.99M [00:00<00:00, 73.3MB/s]\n",
            "Downloading...\n",
            "From: https://drive.google.com/uc?id=1tGvP3hFjaYqvB74X_tt2F_ydWoP8Wk0W\n",
            "To: /content/Shanghai_license_plate_price.csv\n",
            "100%|██████████| 6.46k/6.46k [00:00<00:00, 13.1MB/s]\n"
          ]
        },
        {
          "output_type": "execute_result",
          "data": {
            "text/plain": [
              "'Shanghai_license_plate_price.csv'"
            ],
            "application/vnd.google.colaboratory.intrinsic+json": {
              "type": "string"
            }
          },
          "metadata": {},
          "execution_count": 2
        }
      ]
    },
    {
      "cell_type": "code",
      "metadata": {
        "id": "8IOpxVEaODE6"
      },
      "source": [
        "import numpy as np\n",
        "import pandas as pd\n",
        "import matplotlib.pyplot as plt\n",
        "import sklearn as sk\n",
        "from sklearn.svm import SVR\n",
        "from sklearn import metrics\n",
        "from google.colab import drive\n",
        "plt.style.use('seaborn-v0_8-whitegrid')"
      ],
      "execution_count": null,
      "outputs": []
    },
    {
      "cell_type": "code",
      "metadata": {
        "id": "XjdlErdbLf_u"
      },
      "source": [
        "def mape(y_true, y_pred, e=1e-10):\n",
        "  y = np.concatenate([np.abs(y_true),e*np.ones(y_true.size)]).reshape(2,y_true.size)\n",
        "  return np.mean(np.abs(y_true - y_pred) / np.max(y,axis=0))"
      ],
      "execution_count": null,
      "outputs": []
    },
    {
      "cell_type": "markdown",
      "metadata": {
        "id": "VTGwlV_lO3b3"
      },
      "source": [
        "# Data preparing"
      ]
    },
    {
      "cell_type": "code",
      "metadata": {
        "id": "W7Is5lUaRHJZ"
      },
      "source": [
        "np.random.seed(1)\n",
        "data1 = pd.read_csv('avocado_prices.csv').drop(['Unnamed: 0'],axis=1)\n",
        "data2 = pd.read_csv('Shanghai_license_plate_price.csv')\n",
        "date1 = pd.to_datetime(data1['Date'])\n",
        "data1['month'] = date1.dt.month\n",
        "data1['day'] = date1.dt.day\n",
        "\n",
        "data1['type'] = data1['type'].replace(['conventional','organic'],['0','1']).astype('int64')\n",
        "countr = data1['region'].unique()\n",
        "data1['region'] = data1['region'].replace(countr,np.arange(countr.size).astype(str)).astype('int64')\n",
        "\n",
        "date2 = pd.to_datetime(data2['Date'],format='%b-%d')\n",
        "data2['month'] = date2.dt.month\n",
        "data2['day'] = date2.dt.day\n",
        "lp = data2.columns[2]"
      ],
      "execution_count": null,
      "outputs": []
    },
    {
      "cell_type": "code",
      "source": [
        "data1"
      ],
      "metadata": {
        "colab": {
          "base_uri": "https://localhost:8080/",
          "height": 615
        },
        "id": "iMz60GUyyH6a",
        "outputId": "af084779-4a01-4c5f-ecc8-9aa284e258a4"
      },
      "execution_count": null,
      "outputs": [
        {
          "output_type": "execute_result",
          "data": {
            "text/plain": [
              "             Date  AveragePrice  Total Volume     4046       4225    4770  \\\n",
              "0      2015-12-27          1.33      64236.62  1036.74   54454.85   48.16   \n",
              "1      2015-12-20          1.35      54876.98   674.28   44638.81   58.33   \n",
              "2      2015-12-13          0.93     118220.22   794.70  109149.67  130.50   \n",
              "3      2015-12-06          1.08      78992.15  1132.00   71976.41   72.58   \n",
              "4      2015-11-29          1.28      51039.60   941.48   43838.39   75.78   \n",
              "...           ...           ...           ...      ...        ...     ...   \n",
              "18244  2018-02-04          1.63      17074.83  2046.96    1529.20    0.00   \n",
              "18245  2018-01-28          1.71      13888.04  1191.70    3431.50    0.00   \n",
              "18246  2018-01-21          1.87      13766.76  1191.92    2452.79  727.94   \n",
              "18247  2018-01-14          1.93      16205.22  1527.63    2981.04  727.01   \n",
              "18248  2018-01-07          1.62      17489.58  2894.77    2356.13  224.53   \n",
              "\n",
              "       Total Bags  Small Bags  Large Bags  XLarge Bags  type  year  region  \\\n",
              "0         8696.87     8603.62       93.25          0.0     0  2015       0   \n",
              "1         9505.56     9408.07       97.49          0.0     0  2015       0   \n",
              "2         8145.35     8042.21      103.14          0.0     0  2015       0   \n",
              "3         5811.16     5677.40      133.76          0.0     0  2015       0   \n",
              "4         6183.95     5986.26      197.69          0.0     0  2015       0   \n",
              "...           ...         ...         ...          ...   ...   ...     ...   \n",
              "18244    13498.67    13066.82      431.85          0.0     1  2018      53   \n",
              "18245     9264.84     8940.04      324.80          0.0     1  2018      53   \n",
              "18246     9394.11     9351.80       42.31          0.0     1  2018      53   \n",
              "18247    10969.54    10919.54       50.00          0.0     1  2018      53   \n",
              "18248    12014.15    11988.14       26.01          0.0     1  2018      53   \n",
              "\n",
              "       month  day  \n",
              "0         12   27  \n",
              "1         12   20  \n",
              "2         12   13  \n",
              "3         12    6  \n",
              "4         11   29  \n",
              "...      ...  ...  \n",
              "18244      2    4  \n",
              "18245      1   28  \n",
              "18246      1   21  \n",
              "18247      1   14  \n",
              "18248      1    7  \n",
              "\n",
              "[18249 rows x 15 columns]"
            ],
            "text/html": [
              "\n",
              "  <div id=\"df-709b36a4-9e42-460b-809f-99cf896e44ae\" class=\"colab-df-container\">\n",
              "    <div>\n",
              "<style scoped>\n",
              "    .dataframe tbody tr th:only-of-type {\n",
              "        vertical-align: middle;\n",
              "    }\n",
              "\n",
              "    .dataframe tbody tr th {\n",
              "        vertical-align: top;\n",
              "    }\n",
              "\n",
              "    .dataframe thead th {\n",
              "        text-align: right;\n",
              "    }\n",
              "</style>\n",
              "<table border=\"1\" class=\"dataframe\">\n",
              "  <thead>\n",
              "    <tr style=\"text-align: right;\">\n",
              "      <th></th>\n",
              "      <th>Date</th>\n",
              "      <th>AveragePrice</th>\n",
              "      <th>Total Volume</th>\n",
              "      <th>4046</th>\n",
              "      <th>4225</th>\n",
              "      <th>4770</th>\n",
              "      <th>Total Bags</th>\n",
              "      <th>Small Bags</th>\n",
              "      <th>Large Bags</th>\n",
              "      <th>XLarge Bags</th>\n",
              "      <th>type</th>\n",
              "      <th>year</th>\n",
              "      <th>region</th>\n",
              "      <th>month</th>\n",
              "      <th>day</th>\n",
              "    </tr>\n",
              "  </thead>\n",
              "  <tbody>\n",
              "    <tr>\n",
              "      <th>0</th>\n",
              "      <td>2015-12-27</td>\n",
              "      <td>1.33</td>\n",
              "      <td>64236.62</td>\n",
              "      <td>1036.74</td>\n",
              "      <td>54454.85</td>\n",
              "      <td>48.16</td>\n",
              "      <td>8696.87</td>\n",
              "      <td>8603.62</td>\n",
              "      <td>93.25</td>\n",
              "      <td>0.0</td>\n",
              "      <td>0</td>\n",
              "      <td>2015</td>\n",
              "      <td>0</td>\n",
              "      <td>12</td>\n",
              "      <td>27</td>\n",
              "    </tr>\n",
              "    <tr>\n",
              "      <th>1</th>\n",
              "      <td>2015-12-20</td>\n",
              "      <td>1.35</td>\n",
              "      <td>54876.98</td>\n",
              "      <td>674.28</td>\n",
              "      <td>44638.81</td>\n",
              "      <td>58.33</td>\n",
              "      <td>9505.56</td>\n",
              "      <td>9408.07</td>\n",
              "      <td>97.49</td>\n",
              "      <td>0.0</td>\n",
              "      <td>0</td>\n",
              "      <td>2015</td>\n",
              "      <td>0</td>\n",
              "      <td>12</td>\n",
              "      <td>20</td>\n",
              "    </tr>\n",
              "    <tr>\n",
              "      <th>2</th>\n",
              "      <td>2015-12-13</td>\n",
              "      <td>0.93</td>\n",
              "      <td>118220.22</td>\n",
              "      <td>794.70</td>\n",
              "      <td>109149.67</td>\n",
              "      <td>130.50</td>\n",
              "      <td>8145.35</td>\n",
              "      <td>8042.21</td>\n",
              "      <td>103.14</td>\n",
              "      <td>0.0</td>\n",
              "      <td>0</td>\n",
              "      <td>2015</td>\n",
              "      <td>0</td>\n",
              "      <td>12</td>\n",
              "      <td>13</td>\n",
              "    </tr>\n",
              "    <tr>\n",
              "      <th>3</th>\n",
              "      <td>2015-12-06</td>\n",
              "      <td>1.08</td>\n",
              "      <td>78992.15</td>\n",
              "      <td>1132.00</td>\n",
              "      <td>71976.41</td>\n",
              "      <td>72.58</td>\n",
              "      <td>5811.16</td>\n",
              "      <td>5677.40</td>\n",
              "      <td>133.76</td>\n",
              "      <td>0.0</td>\n",
              "      <td>0</td>\n",
              "      <td>2015</td>\n",
              "      <td>0</td>\n",
              "      <td>12</td>\n",
              "      <td>6</td>\n",
              "    </tr>\n",
              "    <tr>\n",
              "      <th>4</th>\n",
              "      <td>2015-11-29</td>\n",
              "      <td>1.28</td>\n",
              "      <td>51039.60</td>\n",
              "      <td>941.48</td>\n",
              "      <td>43838.39</td>\n",
              "      <td>75.78</td>\n",
              "      <td>6183.95</td>\n",
              "      <td>5986.26</td>\n",
              "      <td>197.69</td>\n",
              "      <td>0.0</td>\n",
              "      <td>0</td>\n",
              "      <td>2015</td>\n",
              "      <td>0</td>\n",
              "      <td>11</td>\n",
              "      <td>29</td>\n",
              "    </tr>\n",
              "    <tr>\n",
              "      <th>...</th>\n",
              "      <td>...</td>\n",
              "      <td>...</td>\n",
              "      <td>...</td>\n",
              "      <td>...</td>\n",
              "      <td>...</td>\n",
              "      <td>...</td>\n",
              "      <td>...</td>\n",
              "      <td>...</td>\n",
              "      <td>...</td>\n",
              "      <td>...</td>\n",
              "      <td>...</td>\n",
              "      <td>...</td>\n",
              "      <td>...</td>\n",
              "      <td>...</td>\n",
              "      <td>...</td>\n",
              "    </tr>\n",
              "    <tr>\n",
              "      <th>18244</th>\n",
              "      <td>2018-02-04</td>\n",
              "      <td>1.63</td>\n",
              "      <td>17074.83</td>\n",
              "      <td>2046.96</td>\n",
              "      <td>1529.20</td>\n",
              "      <td>0.00</td>\n",
              "      <td>13498.67</td>\n",
              "      <td>13066.82</td>\n",
              "      <td>431.85</td>\n",
              "      <td>0.0</td>\n",
              "      <td>1</td>\n",
              "      <td>2018</td>\n",
              "      <td>53</td>\n",
              "      <td>2</td>\n",
              "      <td>4</td>\n",
              "    </tr>\n",
              "    <tr>\n",
              "      <th>18245</th>\n",
              "      <td>2018-01-28</td>\n",
              "      <td>1.71</td>\n",
              "      <td>13888.04</td>\n",
              "      <td>1191.70</td>\n",
              "      <td>3431.50</td>\n",
              "      <td>0.00</td>\n",
              "      <td>9264.84</td>\n",
              "      <td>8940.04</td>\n",
              "      <td>324.80</td>\n",
              "      <td>0.0</td>\n",
              "      <td>1</td>\n",
              "      <td>2018</td>\n",
              "      <td>53</td>\n",
              "      <td>1</td>\n",
              "      <td>28</td>\n",
              "    </tr>\n",
              "    <tr>\n",
              "      <th>18246</th>\n",
              "      <td>2018-01-21</td>\n",
              "      <td>1.87</td>\n",
              "      <td>13766.76</td>\n",
              "      <td>1191.92</td>\n",
              "      <td>2452.79</td>\n",
              "      <td>727.94</td>\n",
              "      <td>9394.11</td>\n",
              "      <td>9351.80</td>\n",
              "      <td>42.31</td>\n",
              "      <td>0.0</td>\n",
              "      <td>1</td>\n",
              "      <td>2018</td>\n",
              "      <td>53</td>\n",
              "      <td>1</td>\n",
              "      <td>21</td>\n",
              "    </tr>\n",
              "    <tr>\n",
              "      <th>18247</th>\n",
              "      <td>2018-01-14</td>\n",
              "      <td>1.93</td>\n",
              "      <td>16205.22</td>\n",
              "      <td>1527.63</td>\n",
              "      <td>2981.04</td>\n",
              "      <td>727.01</td>\n",
              "      <td>10969.54</td>\n",
              "      <td>10919.54</td>\n",
              "      <td>50.00</td>\n",
              "      <td>0.0</td>\n",
              "      <td>1</td>\n",
              "      <td>2018</td>\n",
              "      <td>53</td>\n",
              "      <td>1</td>\n",
              "      <td>14</td>\n",
              "    </tr>\n",
              "    <tr>\n",
              "      <th>18248</th>\n",
              "      <td>2018-01-07</td>\n",
              "      <td>1.62</td>\n",
              "      <td>17489.58</td>\n",
              "      <td>2894.77</td>\n",
              "      <td>2356.13</td>\n",
              "      <td>224.53</td>\n",
              "      <td>12014.15</td>\n",
              "      <td>11988.14</td>\n",
              "      <td>26.01</td>\n",
              "      <td>0.0</td>\n",
              "      <td>1</td>\n",
              "      <td>2018</td>\n",
              "      <td>53</td>\n",
              "      <td>1</td>\n",
              "      <td>7</td>\n",
              "    </tr>\n",
              "  </tbody>\n",
              "</table>\n",
              "<p>18249 rows × 15 columns</p>\n",
              "</div>\n",
              "    <div class=\"colab-df-buttons\">\n",
              "\n",
              "  <div class=\"colab-df-container\">\n",
              "    <button class=\"colab-df-convert\" onclick=\"convertToInteractive('df-709b36a4-9e42-460b-809f-99cf896e44ae')\"\n",
              "            title=\"Convert this dataframe to an interactive table.\"\n",
              "            style=\"display:none;\">\n",
              "\n",
              "  <svg xmlns=\"http://www.w3.org/2000/svg\" height=\"24px\" viewBox=\"0 -960 960 960\">\n",
              "    <path d=\"M120-120v-720h720v720H120Zm60-500h600v-160H180v160Zm220 220h160v-160H400v160Zm0 220h160v-160H400v160ZM180-400h160v-160H180v160Zm440 0h160v-160H620v160ZM180-180h160v-160H180v160Zm440 0h160v-160H620v160Z\"/>\n",
              "  </svg>\n",
              "    </button>\n",
              "\n",
              "  <style>\n",
              "    .colab-df-container {\n",
              "      display:flex;\n",
              "      gap: 12px;\n",
              "    }\n",
              "\n",
              "    .colab-df-convert {\n",
              "      background-color: #E8F0FE;\n",
              "      border: none;\n",
              "      border-radius: 50%;\n",
              "      cursor: pointer;\n",
              "      display: none;\n",
              "      fill: #1967D2;\n",
              "      height: 32px;\n",
              "      padding: 0 0 0 0;\n",
              "      width: 32px;\n",
              "    }\n",
              "\n",
              "    .colab-df-convert:hover {\n",
              "      background-color: #E2EBFA;\n",
              "      box-shadow: 0px 1px 2px rgba(60, 64, 67, 0.3), 0px 1px 3px 1px rgba(60, 64, 67, 0.15);\n",
              "      fill: #174EA6;\n",
              "    }\n",
              "\n",
              "    .colab-df-buttons div {\n",
              "      margin-bottom: 4px;\n",
              "    }\n",
              "\n",
              "    [theme=dark] .colab-df-convert {\n",
              "      background-color: #3B4455;\n",
              "      fill: #D2E3FC;\n",
              "    }\n",
              "\n",
              "    [theme=dark] .colab-df-convert:hover {\n",
              "      background-color: #434B5C;\n",
              "      box-shadow: 0px 1px 3px 1px rgba(0, 0, 0, 0.15);\n",
              "      filter: drop-shadow(0px 1px 2px rgba(0, 0, 0, 0.3));\n",
              "      fill: #FFFFFF;\n",
              "    }\n",
              "  </style>\n",
              "\n",
              "    <script>\n",
              "      const buttonEl =\n",
              "        document.querySelector('#df-709b36a4-9e42-460b-809f-99cf896e44ae button.colab-df-convert');\n",
              "      buttonEl.style.display =\n",
              "        google.colab.kernel.accessAllowed ? 'block' : 'none';\n",
              "\n",
              "      async function convertToInteractive(key) {\n",
              "        const element = document.querySelector('#df-709b36a4-9e42-460b-809f-99cf896e44ae');\n",
              "        const dataTable =\n",
              "          await google.colab.kernel.invokeFunction('convertToInteractive',\n",
              "                                                    [key], {});\n",
              "        if (!dataTable) return;\n",
              "\n",
              "        const docLinkHtml = 'Like what you see? Visit the ' +\n",
              "          '<a target=\"_blank\" href=https://colab.research.google.com/notebooks/data_table.ipynb>data table notebook</a>'\n",
              "          + ' to learn more about interactive tables.';\n",
              "        element.innerHTML = '';\n",
              "        dataTable['output_type'] = 'display_data';\n",
              "        await google.colab.output.renderOutput(dataTable, element);\n",
              "        const docLink = document.createElement('div');\n",
              "        docLink.innerHTML = docLinkHtml;\n",
              "        element.appendChild(docLink);\n",
              "      }\n",
              "    </script>\n",
              "  </div>\n",
              "\n",
              "\n",
              "<div id=\"df-5c81ea05-d40f-4873-b535-2dbd763d0e7c\">\n",
              "  <button class=\"colab-df-quickchart\" onclick=\"quickchart('df-5c81ea05-d40f-4873-b535-2dbd763d0e7c')\"\n",
              "            title=\"Suggest charts\"\n",
              "            style=\"display:none;\">\n",
              "\n",
              "<svg xmlns=\"http://www.w3.org/2000/svg\" height=\"24px\"viewBox=\"0 0 24 24\"\n",
              "     width=\"24px\">\n",
              "    <g>\n",
              "        <path d=\"M19 3H5c-1.1 0-2 .9-2 2v14c0 1.1.9 2 2 2h14c1.1 0 2-.9 2-2V5c0-1.1-.9-2-2-2zM9 17H7v-7h2v7zm4 0h-2V7h2v10zm4 0h-2v-4h2v4z\"/>\n",
              "    </g>\n",
              "</svg>\n",
              "  </button>\n",
              "\n",
              "<style>\n",
              "  .colab-df-quickchart {\n",
              "      --bg-color: #E8F0FE;\n",
              "      --fill-color: #1967D2;\n",
              "      --hover-bg-color: #E2EBFA;\n",
              "      --hover-fill-color: #174EA6;\n",
              "      --disabled-fill-color: #AAA;\n",
              "      --disabled-bg-color: #DDD;\n",
              "  }\n",
              "\n",
              "  [theme=dark] .colab-df-quickchart {\n",
              "      --bg-color: #3B4455;\n",
              "      --fill-color: #D2E3FC;\n",
              "      --hover-bg-color: #434B5C;\n",
              "      --hover-fill-color: #FFFFFF;\n",
              "      --disabled-bg-color: #3B4455;\n",
              "      --disabled-fill-color: #666;\n",
              "  }\n",
              "\n",
              "  .colab-df-quickchart {\n",
              "    background-color: var(--bg-color);\n",
              "    border: none;\n",
              "    border-radius: 50%;\n",
              "    cursor: pointer;\n",
              "    display: none;\n",
              "    fill: var(--fill-color);\n",
              "    height: 32px;\n",
              "    padding: 0;\n",
              "    width: 32px;\n",
              "  }\n",
              "\n",
              "  .colab-df-quickchart:hover {\n",
              "    background-color: var(--hover-bg-color);\n",
              "    box-shadow: 0 1px 2px rgba(60, 64, 67, 0.3), 0 1px 3px 1px rgba(60, 64, 67, 0.15);\n",
              "    fill: var(--button-hover-fill-color);\n",
              "  }\n",
              "\n",
              "  .colab-df-quickchart-complete:disabled,\n",
              "  .colab-df-quickchart-complete:disabled:hover {\n",
              "    background-color: var(--disabled-bg-color);\n",
              "    fill: var(--disabled-fill-color);\n",
              "    box-shadow: none;\n",
              "  }\n",
              "\n",
              "  .colab-df-spinner {\n",
              "    border: 2px solid var(--fill-color);\n",
              "    border-color: transparent;\n",
              "    border-bottom-color: var(--fill-color);\n",
              "    animation:\n",
              "      spin 1s steps(1) infinite;\n",
              "  }\n",
              "\n",
              "  @keyframes spin {\n",
              "    0% {\n",
              "      border-color: transparent;\n",
              "      border-bottom-color: var(--fill-color);\n",
              "      border-left-color: var(--fill-color);\n",
              "    }\n",
              "    20% {\n",
              "      border-color: transparent;\n",
              "      border-left-color: var(--fill-color);\n",
              "      border-top-color: var(--fill-color);\n",
              "    }\n",
              "    30% {\n",
              "      border-color: transparent;\n",
              "      border-left-color: var(--fill-color);\n",
              "      border-top-color: var(--fill-color);\n",
              "      border-right-color: var(--fill-color);\n",
              "    }\n",
              "    40% {\n",
              "      border-color: transparent;\n",
              "      border-right-color: var(--fill-color);\n",
              "      border-top-color: var(--fill-color);\n",
              "    }\n",
              "    60% {\n",
              "      border-color: transparent;\n",
              "      border-right-color: var(--fill-color);\n",
              "    }\n",
              "    80% {\n",
              "      border-color: transparent;\n",
              "      border-right-color: var(--fill-color);\n",
              "      border-bottom-color: var(--fill-color);\n",
              "    }\n",
              "    90% {\n",
              "      border-color: transparent;\n",
              "      border-bottom-color: var(--fill-color);\n",
              "    }\n",
              "  }\n",
              "</style>\n",
              "\n",
              "  <script>\n",
              "    async function quickchart(key) {\n",
              "      const quickchartButtonEl =\n",
              "        document.querySelector('#' + key + ' button');\n",
              "      quickchartButtonEl.disabled = true;  // To prevent multiple clicks.\n",
              "      quickchartButtonEl.classList.add('colab-df-spinner');\n",
              "      try {\n",
              "        const charts = await google.colab.kernel.invokeFunction(\n",
              "            'suggestCharts', [key], {});\n",
              "      } catch (error) {\n",
              "        console.error('Error during call to suggestCharts:', error);\n",
              "      }\n",
              "      quickchartButtonEl.classList.remove('colab-df-spinner');\n",
              "      quickchartButtonEl.classList.add('colab-df-quickchart-complete');\n",
              "    }\n",
              "    (() => {\n",
              "      let quickchartButtonEl =\n",
              "        document.querySelector('#df-5c81ea05-d40f-4873-b535-2dbd763d0e7c button');\n",
              "      quickchartButtonEl.style.display =\n",
              "        google.colab.kernel.accessAllowed ? 'block' : 'none';\n",
              "    })();\n",
              "  </script>\n",
              "</div>\n",
              "    </div>\n",
              "  </div>\n"
            ],
            "application/vnd.google.colaboratory.intrinsic+json": {
              "type": "dataframe",
              "variable_name": "data1",
              "summary": "{\n  \"name\": \"data1\",\n  \"rows\": 18249,\n  \"fields\": [\n    {\n      \"column\": \"Date\",\n      \"properties\": {\n        \"dtype\": \"object\",\n        \"num_unique_values\": 169,\n        \"samples\": [\n          \"2017-05-07\",\n          \"2015-05-31\",\n          \"2017-09-17\"\n        ],\n        \"semantic_type\": \"\",\n        \"description\": \"\"\n      }\n    },\n    {\n      \"column\": \"AveragePrice\",\n      \"properties\": {\n        \"dtype\": \"number\",\n        \"std\": 0.40267655549555004,\n        \"min\": 0.44,\n        \"max\": 3.25,\n        \"num_unique_values\": 259,\n        \"samples\": [\n          0.88,\n          0.91,\n          1.07\n        ],\n        \"semantic_type\": \"\",\n        \"description\": \"\"\n      }\n    },\n    {\n      \"column\": \"Total Volume\",\n      \"properties\": {\n        \"dtype\": \"number\",\n        \"std\": 3453545.3553994815,\n        \"min\": 84.56,\n        \"max\": 62505646.52,\n        \"num_unique_values\": 18237,\n        \"samples\": [\n          9783.93,\n          2604991.25,\n          277267.97\n        ],\n        \"semantic_type\": \"\",\n        \"description\": \"\"\n      }\n    },\n    {\n      \"column\": \"4046\",\n      \"properties\": {\n        \"dtype\": \"number\",\n        \"std\": 1264989.081762766,\n        \"min\": 0.0,\n        \"max\": 22743616.17,\n        \"num_unique_values\": 17702,\n        \"samples\": [\n          97.29,\n          97139.95,\n          6339.49\n        ],\n        \"semantic_type\": \"\",\n        \"description\": \"\"\n      }\n    },\n    {\n      \"column\": \"4225\",\n      \"properties\": {\n        \"dtype\": \"number\",\n        \"std\": 1204120.4011350493,\n        \"min\": 0.0,\n        \"max\": 20470572.61,\n        \"num_unique_values\": 18103,\n        \"samples\": [\n          11096.86,\n          22648.55,\n          87497.9\n        ],\n        \"semantic_type\": \"\",\n        \"description\": \"\"\n      }\n    },\n    {\n      \"column\": \"4770\",\n      \"properties\": {\n        \"dtype\": \"number\",\n        \"std\": 107464.06843537689,\n        \"min\": 0.0,\n        \"max\": 2546439.11,\n        \"num_unique_values\": 12071,\n        \"samples\": [\n          74.0,\n          1875.51,\n          202.18\n        ],\n        \"semantic_type\": \"\",\n        \"description\": \"\"\n      }\n    },\n    {\n      \"column\": \"Total Bags\",\n      \"properties\": {\n        \"dtype\": \"number\",\n        \"std\": 986242.3992164129,\n        \"min\": 0.0,\n        \"max\": 19373134.37,\n        \"num_unique_values\": 18097,\n        \"samples\": [\n          63800.09,\n          12938.12,\n          912891.54\n        ],\n        \"semantic_type\": \"\",\n        \"description\": \"\"\n      }\n    },\n    {\n      \"column\": \"Small Bags\",\n      \"properties\": {\n        \"dtype\": \"number\",\n        \"std\": 746178.5149617859,\n        \"min\": 0.0,\n        \"max\": 13384586.8,\n        \"num_unique_values\": 17321,\n        \"samples\": [\n          41688.75,\n          118293.26,\n          93488.63\n        ],\n        \"semantic_type\": \"\",\n        \"description\": \"\"\n      }\n    },\n    {\n      \"column\": \"Large Bags\",\n      \"properties\": {\n        \"dtype\": \"number\",\n        \"std\": 243965.9645474206,\n        \"min\": 0.0,\n        \"max\": 5719096.61,\n        \"num_unique_values\": 15082,\n        \"samples\": [\n          5155.3,\n          43900.93,\n          163807.71\n        ],\n        \"semantic_type\": \"\",\n        \"description\": \"\"\n      }\n    },\n    {\n      \"column\": \"XLarge Bags\",\n      \"properties\": {\n        \"dtype\": \"number\",\n        \"std\": 17692.894651914357,\n        \"min\": 0.0,\n        \"max\": 551693.65,\n        \"num_unique_values\": 5588,\n        \"samples\": [\n          527.2,\n          1290.39,\n          7249.07\n        ],\n        \"semantic_type\": \"\",\n        \"description\": \"\"\n      }\n    },\n    {\n      \"column\": \"type\",\n      \"properties\": {\n        \"dtype\": \"number\",\n        \"std\": 0,\n        \"min\": 0,\n        \"max\": 1,\n        \"num_unique_values\": 2,\n        \"samples\": [\n          1,\n          0\n        ],\n        \"semantic_type\": \"\",\n        \"description\": \"\"\n      }\n    },\n    {\n      \"column\": \"year\",\n      \"properties\": {\n        \"dtype\": \"number\",\n        \"std\": 0,\n        \"min\": 2015,\n        \"max\": 2018,\n        \"num_unique_values\": 4,\n        \"samples\": [\n          2016,\n          2018\n        ],\n        \"semantic_type\": \"\",\n        \"description\": \"\"\n      }\n    },\n    {\n      \"column\": \"region\",\n      \"properties\": {\n        \"dtype\": \"number\",\n        \"std\": 15,\n        \"min\": 0,\n        \"max\": 53,\n        \"num_unique_values\": 54,\n        \"samples\": [\n          19,\n          49\n        ],\n        \"semantic_type\": \"\",\n        \"description\": \"\"\n      }\n    },\n    {\n      \"column\": \"month\",\n      \"properties\": {\n        \"dtype\": \"int32\",\n        \"num_unique_values\": 12,\n        \"samples\": [\n          2,\n          3\n        ],\n        \"semantic_type\": \"\",\n        \"description\": \"\"\n      }\n    },\n    {\n      \"column\": \"day\",\n      \"properties\": {\n        \"dtype\": \"int32\",\n        \"num_unique_values\": 31,\n        \"samples\": [\n          24,\n          16\n        ],\n        \"semantic_type\": \"\",\n        \"description\": \"\"\n      }\n    }\n  ]\n}"
            }
          },
          "metadata": {},
          "execution_count": 21
        }
      ]
    },
    {
      "cell_type": "code",
      "source": [
        "data2"
      ],
      "metadata": {
        "colab": {
          "base_uri": "https://localhost:8080/",
          "height": 424
        },
        "id": "0qdxCpf5yIsT",
        "outputId": "51edb69b-0f65-4b95-8e5b-01f97cafd58a"
      },
      "execution_count": null,
      "outputs": [
        {
          "output_type": "execute_result",
          "data": {
            "text/plain": [
              "       Date  Total number of license issued  lowest price   avg price  \\\n",
              "0    Jan-02                            1400          13600      14735   \n",
              "1    Feb-02                            1800          13100      14057   \n",
              "2    Mar-02                            2000          14300      14662   \n",
              "3    Apr-02                            2300          16000      16334   \n",
              "4    May-02                            2350          17800      18357   \n",
              "..      ...                             ...            ...        ...   \n",
              "199  Sep-18                           12712          87300      87410   \n",
              "200  Oct-18                           10728          88000      88070   \n",
              "201  Nov-18                           11766          87300      87374   \n",
              "202  Dec-18                           12850          87400      87508   \n",
              "203  Jan-19                           12832          89500      89565   \n",
              "\n",
              "     Total number of applicants  month  day  \n",
              "0                          3718      1    2  \n",
              "1                          4590      2    2  \n",
              "2                          5190      3    2  \n",
              "3                          4806      4    2  \n",
              "4                          4665      5    2  \n",
              "..                          ...    ...  ...  \n",
              "199                      189142      9   18  \n",
              "200                      181861     10   18  \n",
              "201                      177355     11   18  \n",
              "202                      165442     12   18  \n",
              "203                      168614      1   19  \n",
              "\n",
              "[204 rows x 7 columns]"
            ],
            "text/html": [
              "\n",
              "  <div id=\"df-417a09e9-ccdc-49e5-894a-3118d9287bf9\" class=\"colab-df-container\">\n",
              "    <div>\n",
              "<style scoped>\n",
              "    .dataframe tbody tr th:only-of-type {\n",
              "        vertical-align: middle;\n",
              "    }\n",
              "\n",
              "    .dataframe tbody tr th {\n",
              "        vertical-align: top;\n",
              "    }\n",
              "\n",
              "    .dataframe thead th {\n",
              "        text-align: right;\n",
              "    }\n",
              "</style>\n",
              "<table border=\"1\" class=\"dataframe\">\n",
              "  <thead>\n",
              "    <tr style=\"text-align: right;\">\n",
              "      <th></th>\n",
              "      <th>Date</th>\n",
              "      <th>Total number of license issued</th>\n",
              "      <th>lowest price</th>\n",
              "      <th>avg price</th>\n",
              "      <th>Total number of applicants</th>\n",
              "      <th>month</th>\n",
              "      <th>day</th>\n",
              "    </tr>\n",
              "  </thead>\n",
              "  <tbody>\n",
              "    <tr>\n",
              "      <th>0</th>\n",
              "      <td>Jan-02</td>\n",
              "      <td>1400</td>\n",
              "      <td>13600</td>\n",
              "      <td>14735</td>\n",
              "      <td>3718</td>\n",
              "      <td>1</td>\n",
              "      <td>2</td>\n",
              "    </tr>\n",
              "    <tr>\n",
              "      <th>1</th>\n",
              "      <td>Feb-02</td>\n",
              "      <td>1800</td>\n",
              "      <td>13100</td>\n",
              "      <td>14057</td>\n",
              "      <td>4590</td>\n",
              "      <td>2</td>\n",
              "      <td>2</td>\n",
              "    </tr>\n",
              "    <tr>\n",
              "      <th>2</th>\n",
              "      <td>Mar-02</td>\n",
              "      <td>2000</td>\n",
              "      <td>14300</td>\n",
              "      <td>14662</td>\n",
              "      <td>5190</td>\n",
              "      <td>3</td>\n",
              "      <td>2</td>\n",
              "    </tr>\n",
              "    <tr>\n",
              "      <th>3</th>\n",
              "      <td>Apr-02</td>\n",
              "      <td>2300</td>\n",
              "      <td>16000</td>\n",
              "      <td>16334</td>\n",
              "      <td>4806</td>\n",
              "      <td>4</td>\n",
              "      <td>2</td>\n",
              "    </tr>\n",
              "    <tr>\n",
              "      <th>4</th>\n",
              "      <td>May-02</td>\n",
              "      <td>2350</td>\n",
              "      <td>17800</td>\n",
              "      <td>18357</td>\n",
              "      <td>4665</td>\n",
              "      <td>5</td>\n",
              "      <td>2</td>\n",
              "    </tr>\n",
              "    <tr>\n",
              "      <th>...</th>\n",
              "      <td>...</td>\n",
              "      <td>...</td>\n",
              "      <td>...</td>\n",
              "      <td>...</td>\n",
              "      <td>...</td>\n",
              "      <td>...</td>\n",
              "      <td>...</td>\n",
              "    </tr>\n",
              "    <tr>\n",
              "      <th>199</th>\n",
              "      <td>Sep-18</td>\n",
              "      <td>12712</td>\n",
              "      <td>87300</td>\n",
              "      <td>87410</td>\n",
              "      <td>189142</td>\n",
              "      <td>9</td>\n",
              "      <td>18</td>\n",
              "    </tr>\n",
              "    <tr>\n",
              "      <th>200</th>\n",
              "      <td>Oct-18</td>\n",
              "      <td>10728</td>\n",
              "      <td>88000</td>\n",
              "      <td>88070</td>\n",
              "      <td>181861</td>\n",
              "      <td>10</td>\n",
              "      <td>18</td>\n",
              "    </tr>\n",
              "    <tr>\n",
              "      <th>201</th>\n",
              "      <td>Nov-18</td>\n",
              "      <td>11766</td>\n",
              "      <td>87300</td>\n",
              "      <td>87374</td>\n",
              "      <td>177355</td>\n",
              "      <td>11</td>\n",
              "      <td>18</td>\n",
              "    </tr>\n",
              "    <tr>\n",
              "      <th>202</th>\n",
              "      <td>Dec-18</td>\n",
              "      <td>12850</td>\n",
              "      <td>87400</td>\n",
              "      <td>87508</td>\n",
              "      <td>165442</td>\n",
              "      <td>12</td>\n",
              "      <td>18</td>\n",
              "    </tr>\n",
              "    <tr>\n",
              "      <th>203</th>\n",
              "      <td>Jan-19</td>\n",
              "      <td>12832</td>\n",
              "      <td>89500</td>\n",
              "      <td>89565</td>\n",
              "      <td>168614</td>\n",
              "      <td>1</td>\n",
              "      <td>19</td>\n",
              "    </tr>\n",
              "  </tbody>\n",
              "</table>\n",
              "<p>204 rows × 7 columns</p>\n",
              "</div>\n",
              "    <div class=\"colab-df-buttons\">\n",
              "\n",
              "  <div class=\"colab-df-container\">\n",
              "    <button class=\"colab-df-convert\" onclick=\"convertToInteractive('df-417a09e9-ccdc-49e5-894a-3118d9287bf9')\"\n",
              "            title=\"Convert this dataframe to an interactive table.\"\n",
              "            style=\"display:none;\">\n",
              "\n",
              "  <svg xmlns=\"http://www.w3.org/2000/svg\" height=\"24px\" viewBox=\"0 -960 960 960\">\n",
              "    <path d=\"M120-120v-720h720v720H120Zm60-500h600v-160H180v160Zm220 220h160v-160H400v160Zm0 220h160v-160H400v160ZM180-400h160v-160H180v160Zm440 0h160v-160H620v160ZM180-180h160v-160H180v160Zm440 0h160v-160H620v160Z\"/>\n",
              "  </svg>\n",
              "    </button>\n",
              "\n",
              "  <style>\n",
              "    .colab-df-container {\n",
              "      display:flex;\n",
              "      gap: 12px;\n",
              "    }\n",
              "\n",
              "    .colab-df-convert {\n",
              "      background-color: #E8F0FE;\n",
              "      border: none;\n",
              "      border-radius: 50%;\n",
              "      cursor: pointer;\n",
              "      display: none;\n",
              "      fill: #1967D2;\n",
              "      height: 32px;\n",
              "      padding: 0 0 0 0;\n",
              "      width: 32px;\n",
              "    }\n",
              "\n",
              "    .colab-df-convert:hover {\n",
              "      background-color: #E2EBFA;\n",
              "      box-shadow: 0px 1px 2px rgba(60, 64, 67, 0.3), 0px 1px 3px 1px rgba(60, 64, 67, 0.15);\n",
              "      fill: #174EA6;\n",
              "    }\n",
              "\n",
              "    .colab-df-buttons div {\n",
              "      margin-bottom: 4px;\n",
              "    }\n",
              "\n",
              "    [theme=dark] .colab-df-convert {\n",
              "      background-color: #3B4455;\n",
              "      fill: #D2E3FC;\n",
              "    }\n",
              "\n",
              "    [theme=dark] .colab-df-convert:hover {\n",
              "      background-color: #434B5C;\n",
              "      box-shadow: 0px 1px 3px 1px rgba(0, 0, 0, 0.15);\n",
              "      filter: drop-shadow(0px 1px 2px rgba(0, 0, 0, 0.3));\n",
              "      fill: #FFFFFF;\n",
              "    }\n",
              "  </style>\n",
              "\n",
              "    <script>\n",
              "      const buttonEl =\n",
              "        document.querySelector('#df-417a09e9-ccdc-49e5-894a-3118d9287bf9 button.colab-df-convert');\n",
              "      buttonEl.style.display =\n",
              "        google.colab.kernel.accessAllowed ? 'block' : 'none';\n",
              "\n",
              "      async function convertToInteractive(key) {\n",
              "        const element = document.querySelector('#df-417a09e9-ccdc-49e5-894a-3118d9287bf9');\n",
              "        const dataTable =\n",
              "          await google.colab.kernel.invokeFunction('convertToInteractive',\n",
              "                                                    [key], {});\n",
              "        if (!dataTable) return;\n",
              "\n",
              "        const docLinkHtml = 'Like what you see? Visit the ' +\n",
              "          '<a target=\"_blank\" href=https://colab.research.google.com/notebooks/data_table.ipynb>data table notebook</a>'\n",
              "          + ' to learn more about interactive tables.';\n",
              "        element.innerHTML = '';\n",
              "        dataTable['output_type'] = 'display_data';\n",
              "        await google.colab.output.renderOutput(dataTable, element);\n",
              "        const docLink = document.createElement('div');\n",
              "        docLink.innerHTML = docLinkHtml;\n",
              "        element.appendChild(docLink);\n",
              "      }\n",
              "    </script>\n",
              "  </div>\n",
              "\n",
              "\n",
              "<div id=\"df-c02a8a06-f1d9-4974-be1b-c8bd9e1fe046\">\n",
              "  <button class=\"colab-df-quickchart\" onclick=\"quickchart('df-c02a8a06-f1d9-4974-be1b-c8bd9e1fe046')\"\n",
              "            title=\"Suggest charts\"\n",
              "            style=\"display:none;\">\n",
              "\n",
              "<svg xmlns=\"http://www.w3.org/2000/svg\" height=\"24px\"viewBox=\"0 0 24 24\"\n",
              "     width=\"24px\">\n",
              "    <g>\n",
              "        <path d=\"M19 3H5c-1.1 0-2 .9-2 2v14c0 1.1.9 2 2 2h14c1.1 0 2-.9 2-2V5c0-1.1-.9-2-2-2zM9 17H7v-7h2v7zm4 0h-2V7h2v10zm4 0h-2v-4h2v4z\"/>\n",
              "    </g>\n",
              "</svg>\n",
              "  </button>\n",
              "\n",
              "<style>\n",
              "  .colab-df-quickchart {\n",
              "      --bg-color: #E8F0FE;\n",
              "      --fill-color: #1967D2;\n",
              "      --hover-bg-color: #E2EBFA;\n",
              "      --hover-fill-color: #174EA6;\n",
              "      --disabled-fill-color: #AAA;\n",
              "      --disabled-bg-color: #DDD;\n",
              "  }\n",
              "\n",
              "  [theme=dark] .colab-df-quickchart {\n",
              "      --bg-color: #3B4455;\n",
              "      --fill-color: #D2E3FC;\n",
              "      --hover-bg-color: #434B5C;\n",
              "      --hover-fill-color: #FFFFFF;\n",
              "      --disabled-bg-color: #3B4455;\n",
              "      --disabled-fill-color: #666;\n",
              "  }\n",
              "\n",
              "  .colab-df-quickchart {\n",
              "    background-color: var(--bg-color);\n",
              "    border: none;\n",
              "    border-radius: 50%;\n",
              "    cursor: pointer;\n",
              "    display: none;\n",
              "    fill: var(--fill-color);\n",
              "    height: 32px;\n",
              "    padding: 0;\n",
              "    width: 32px;\n",
              "  }\n",
              "\n",
              "  .colab-df-quickchart:hover {\n",
              "    background-color: var(--hover-bg-color);\n",
              "    box-shadow: 0 1px 2px rgba(60, 64, 67, 0.3), 0 1px 3px 1px rgba(60, 64, 67, 0.15);\n",
              "    fill: var(--button-hover-fill-color);\n",
              "  }\n",
              "\n",
              "  .colab-df-quickchart-complete:disabled,\n",
              "  .colab-df-quickchart-complete:disabled:hover {\n",
              "    background-color: var(--disabled-bg-color);\n",
              "    fill: var(--disabled-fill-color);\n",
              "    box-shadow: none;\n",
              "  }\n",
              "\n",
              "  .colab-df-spinner {\n",
              "    border: 2px solid var(--fill-color);\n",
              "    border-color: transparent;\n",
              "    border-bottom-color: var(--fill-color);\n",
              "    animation:\n",
              "      spin 1s steps(1) infinite;\n",
              "  }\n",
              "\n",
              "  @keyframes spin {\n",
              "    0% {\n",
              "      border-color: transparent;\n",
              "      border-bottom-color: var(--fill-color);\n",
              "      border-left-color: var(--fill-color);\n",
              "    }\n",
              "    20% {\n",
              "      border-color: transparent;\n",
              "      border-left-color: var(--fill-color);\n",
              "      border-top-color: var(--fill-color);\n",
              "    }\n",
              "    30% {\n",
              "      border-color: transparent;\n",
              "      border-left-color: var(--fill-color);\n",
              "      border-top-color: var(--fill-color);\n",
              "      border-right-color: var(--fill-color);\n",
              "    }\n",
              "    40% {\n",
              "      border-color: transparent;\n",
              "      border-right-color: var(--fill-color);\n",
              "      border-top-color: var(--fill-color);\n",
              "    }\n",
              "    60% {\n",
              "      border-color: transparent;\n",
              "      border-right-color: var(--fill-color);\n",
              "    }\n",
              "    80% {\n",
              "      border-color: transparent;\n",
              "      border-right-color: var(--fill-color);\n",
              "      border-bottom-color: var(--fill-color);\n",
              "    }\n",
              "    90% {\n",
              "      border-color: transparent;\n",
              "      border-bottom-color: var(--fill-color);\n",
              "    }\n",
              "  }\n",
              "</style>\n",
              "\n",
              "  <script>\n",
              "    async function quickchart(key) {\n",
              "      const quickchartButtonEl =\n",
              "        document.querySelector('#' + key + ' button');\n",
              "      quickchartButtonEl.disabled = true;  // To prevent multiple clicks.\n",
              "      quickchartButtonEl.classList.add('colab-df-spinner');\n",
              "      try {\n",
              "        const charts = await google.colab.kernel.invokeFunction(\n",
              "            'suggestCharts', [key], {});\n",
              "      } catch (error) {\n",
              "        console.error('Error during call to suggestCharts:', error);\n",
              "      }\n",
              "      quickchartButtonEl.classList.remove('colab-df-spinner');\n",
              "      quickchartButtonEl.classList.add('colab-df-quickchart-complete');\n",
              "    }\n",
              "    (() => {\n",
              "      let quickchartButtonEl =\n",
              "        document.querySelector('#df-c02a8a06-f1d9-4974-be1b-c8bd9e1fe046 button');\n",
              "      quickchartButtonEl.style.display =\n",
              "        google.colab.kernel.accessAllowed ? 'block' : 'none';\n",
              "    })();\n",
              "  </script>\n",
              "</div>\n",
              "    </div>\n",
              "  </div>\n"
            ],
            "application/vnd.google.colaboratory.intrinsic+json": {
              "type": "dataframe",
              "variable_name": "data2",
              "summary": "{\n  \"name\": \"data2\",\n  \"rows\": 204,\n  \"fields\": [\n    {\n      \"column\": \"Date\",\n      \"properties\": {\n        \"dtype\": \"string\",\n        \"num_unique_values\": 204,\n        \"samples\": [\n          \"Apr-03\",\n          \"Oct-02\",\n          \"Sep-11\"\n        ],\n        \"semantic_type\": \"\",\n        \"description\": \"\"\n      }\n    },\n    {\n      \"column\": \"Total number of license issued\",\n      \"properties\": {\n        \"dtype\": \"number\",\n        \"std\": 2615,\n        \"min\": 1400,\n        \"max\": 16000,\n        \"num_unique_values\": 100,\n        \"samples\": [\n          12413,\n          7653,\n          11475\n        ],\n        \"semantic_type\": \"\",\n        \"description\": \"\"\n      }\n    },\n    {\n      \"column\": \"lowest price \",\n      \"properties\": {\n        \"dtype\": \"number\",\n        \"std\": 24577,\n        \"min\": 8100,\n        \"max\": 93500,\n        \"num_unique_values\": 168,\n        \"samples\": [\n          84600,\n          29300,\n          82300\n        ],\n        \"semantic_type\": \"\",\n        \"description\": \"\"\n      }\n    },\n    {\n      \"column\": \"avg price\",\n      \"properties\": {\n        \"dtype\": \"number\",\n        \"std\": 23772,\n        \"min\": 14057,\n        \"max\": 93540,\n        \"num_unique_values\": 204,\n        \"samples\": [\n          34845,\n          27040,\n          52622\n        ],\n        \"semantic_type\": \"\",\n        \"description\": \"\"\n      }\n    },\n    {\n      \"column\": \"Total number of applicants\",\n      \"properties\": {\n        \"dtype\": \"number\",\n        \"std\": 85081,\n        \"min\": 3525,\n        \"max\": 277889,\n        \"num_unique_values\": 204,\n        \"samples\": [\n          8794,\n          4661,\n          22268\n        ],\n        \"semantic_type\": \"\",\n        \"description\": \"\"\n      }\n    },\n    {\n      \"column\": \"month\",\n      \"properties\": {\n        \"dtype\": \"int32\",\n        \"num_unique_values\": 12,\n        \"samples\": [\n          11,\n          10,\n          1\n        ],\n        \"semantic_type\": \"\",\n        \"description\": \"\"\n      }\n    },\n    {\n      \"column\": \"day\",\n      \"properties\": {\n        \"dtype\": \"int32\",\n        \"num_unique_values\": 18,\n        \"samples\": [\n          2,\n          3,\n          10\n        ],\n        \"semantic_type\": \"\",\n        \"description\": \"\"\n      }\n    }\n  ]\n}"
            }
          },
          "metadata": {},
          "execution_count": 22
        }
      ]
    },
    {
      "cell_type": "markdown",
      "metadata": {
        "id": "-ZfV_jf0Qwtz"
      },
      "source": [
        "# Visualisation and preprocessing"
      ]
    },
    {
      "cell_type": "code",
      "metadata": {
        "id": "HeGLeuLCQ6ob",
        "colab": {
          "base_uri": "https://localhost:8080/",
          "height": 445
        },
        "outputId": "ea04b53a-44c1-4199-831d-15c6682ef763"
      },
      "source": [
        "def vis(data,main_atrr,secon):\n",
        "  y = data[main_atrr]\n",
        "  x = data[secon]\n",
        "  plt.plot(x,y,'o')\n",
        "  plt.xlabel(secon)\n",
        "  plt.ylabel(main_atrr)\n",
        "\n",
        "vis(data1,'AveragePrice','XLarge Bags')"
      ],
      "execution_count": null,
      "outputs": [
        {
          "output_type": "display_data",
          "data": {
            "text/plain": [
              "<Figure size 640x480 with 1 Axes>"
            ],
            "image/png": "[encoded data removed]"
          },
          "metadata": {}
        }
      ]
    },
    {
      "cell_type": "code",
      "metadata": {
        "id": "QdVus80ZgXs-",
        "colab": {
          "base_uri": "https://localhost:8080/",
          "height": 445
        },
        "outputId": "1929d5bf-aaf9-42df-f44b-cf30e22e18b9"
      },
      "source": [
        "vis(data2,'avg price',lp)"
      ],
      "execution_count": null,
      "outputs": [
        {
          "output_type": "display_data",
          "data": {
            "text/plain": [
              "<Figure size 640x480 with 1 Axes>"
            ],
            "image/png": "[encoded data removed]"
          },
          "metadata": {}
        }
      ]
    },
    {
      "cell_type": "code",
      "metadata": {
        "id": "wfYSxfu8stAZ",
        "colab": {
          "base_uri": "https://localhost:8080/",
          "height": 445
        },
        "outputId": "682013cc-72cf-4fd8-96f0-5e8e5ba544e5"
      },
      "source": [
        "l = ['AveragePrice',\t'Total Volume',\t'4046',\t'4225',\t'4770',\t'Total Bags',\t'Small Bags',\t'Large Bags',\t'XLarge Bags']\n",
        "data1[l] = np.log(data1[l]+1)\n",
        "vis(data1,'AveragePrice','XLarge Bags')"
      ],
      "execution_count": null,
      "outputs": [
        {
          "output_type": "display_data",
          "data": {
            "text/plain": [
              "<Figure size 640x480 with 1 Axes>"
            ],
            "image/png": "[encoded data removed]"
          },
          "metadata": {}
        }
      ]
    },
    {
      "cell_type": "code",
      "metadata": {
        "id": "i1bvo2cE2OIu"
      },
      "source": [
        "l = ['Total Volume',\t'4046',\t'4225',\t'4770',\t'Total Bags',\t'Small Bags',\t'Large Bags',\t'XLarge Bags']\n",
        "y1 = np.array(data1['AveragePrice'])\n",
        "data1[l] = (data1[l]-data1[l].mean())/data1[l].std()\n",
        "data12 = data1.copy().drop(['Date','AveragePrice'],axis=1)\n",
        "X1 = np.array(data12)\n",
        "\n",
        "\n",
        "y2 = np.array(data2['avg price'])\n",
        "data22 = data2.copy().drop(['Date','avg price'], axis=1)\n",
        "X2 = np.array(data22)"
      ],
      "execution_count": null,
      "outputs": []
    },
    {
      "cell_type": "markdown",
      "metadata": {
        "id": "pi1MBWg0UARy"
      },
      "source": [
        "# Modelling"
      ]
    },
    {
      "cell_type": "markdown",
      "metadata": {
        "id": "ylrXAOpU1EK2"
      },
      "source": [
        "решітчастий пошук гіперпараметрів, в списки c,e,d потрібно підставити різні значення щоб знайти оптимальні параметри"
      ]
    },
    {
      "cell_type": "code",
      "metadata": {
        "id": "YAvWPNZ98jC8"
      },
      "source": [
        "X1_train, X1_test, y1_train, y1_test = sk.model_selection.train_test_split(X1, y1, random_state=1)\n",
        "c = [1000]\n",
        "e = [0.01]\n",
        "d = [3]\n",
        "param = {'C': c ,'epsilon': e, 'degree': d }\n",
        "split = sk.model_selection.KFold(shuffle=True,random_state=1,n_splits=3)\n",
        "regr = SVR(kernel='poly')\n",
        "grid1 = sk.model_selection.GridSearchCV(regr,param,cv=split,scoring='neg_mean_squared_error').fit(X1,y1)\n",
        "# grid_1 = sk.model_selection.GridSearchCV(regr,param,cv=split).fit(X1_train,y1_train)\n",
        "regr = grid1.best_estimator_"
      ],
      "execution_count": null,
      "outputs": []
    },
    {
      "cell_type": "code",
      "metadata": {
        "id": "qdfUnZAxdB_1"
      },
      "source": [
        "X2_train, X2_test, y2_train, y2_test = sk.model_selection.train_test_split(X2, y2, random_state=1)\n",
        "c = np.linspace(1000,7000,num=10)\n",
        "e = np.linspace(1,5,num=5)\n",
        "d = [1,3,2]\n",
        "param = {'C': c ,'epsilon': e , 'degree': d }\n",
        "split = sk.model_selection.KFold(shuffle=True,random_state=1)\n",
        "regr = SVR(kernel='poly')\n",
        "grid2 = sk.model_selection.GridSearchCV(regr,param,cv=split).fit(X2,y2)\n",
        "# grid_2 = sk.model_selection.GridSearchCV(regr,param,cv=split).fit(X2_train,y2_train)\n",
        "regr = grid2.best_estimator_"
      ],
      "execution_count": null,
      "outputs": []
    },
    {
      "cell_type": "code",
      "metadata": {
        "colab": {
          "base_uri": "https://localhost:8080/"
        },
        "id": "TCC5yEIXxHvl",
        "outputId": "98d6f089-51f2-4c1d-a57c-c881e19269c1"
      },
      "source": [
        "p1 = grid1.best_params_ # best parameters for the data1\n",
        "p1"
      ],
      "execution_count": null,
      "outputs": [
        {
          "output_type": "execute_result",
          "data": {
            "text/plain": [
              "{'C': 1000, 'degree': 3, 'epsilon': 0.01}"
            ]
          },
          "metadata": {},
          "execution_count": 10
        }
      ]
    },
    {
      "cell_type": "code",
      "metadata": {
        "colab": {
          "base_uri": "https://localhost:8080/"
        },
        "id": "SZgnhMGlVsUH",
        "outputId": "25d83136-e088-46a0-dcb4-1a65d9d52ffb"
      },
      "source": [
        "p2 = grid2.best_params_ # best parameters for the data2\n",
        "p2"
      ],
      "execution_count": null,
      "outputs": [
        {
          "output_type": "execute_result",
          "data": {
            "text/plain": [
              "{'C': 7000.0, 'degree': 1, 'epsilon': 5.0}"
            ]
          },
          "metadata": {},
          "execution_count": 11
        }
      ]
    },
    {
      "cell_type": "code",
      "metadata": {
        "colab": {
          "base_uri": "https://localhost:8080/"
        },
        "id": "bsa5aNZaxCFs",
        "outputId": "55e7a8e5-07c3-4625-ee93-f230252542cb"
      },
      "source": [
        "print(abs(grid1.best_score_)) # best metric score for data1"
      ],
      "execution_count": null,
      "outputs": [
        {
          "output_type": "stream",
          "name": "stdout",
          "text": [
            "0.011925134698016496\n"
          ]
        }
      ]
    },
    {
      "cell_type": "code",
      "metadata": {
        "colab": {
          "base_uri": "https://localhost:8080/"
        },
        "id": "RzwrDsuTVyKr",
        "outputId": "87d36e21-7e90-4140-c833-3cda76d8db24"
      },
      "source": [
        "print(grid2.best_score_) # best metric score for data2"
      ],
      "execution_count": null,
      "outputs": [
        {
          "output_type": "stream",
          "name": "stdout",
          "text": [
            "0.9842458804125227\n"
          ]
        }
      ]
    },
    {
      "cell_type": "code",
      "metadata": {
        "id": "8kMZwnI2B4p5"
      },
      "source": [
        "regr.score(X1_test,y1_test)"
      ],
      "execution_count": null,
      "outputs": []
    },
    {
      "cell_type": "markdown",
      "metadata": {
        "id": "TAQdkU-DcfCg"
      },
      "source": [
        "# Predictions"
      ]
    },
    {
      "cell_type": "code",
      "metadata": {
        "id": "3j4q9R8OZyzq",
        "colab": {
          "base_uri": "https://localhost:8080/",
          "height": 294
        },
        "outputId": "23d31246-6d6d-4c4a-f65c-2e6e3122577a"
      },
      "source": [
        "y_pred = grid1.best_estimator_.predict(X1)\n",
        "\n",
        "def vis_pr(data,secon_atrr,main_atrr,y_pred):\n",
        "  fig,ax = plt.subplots(2)\n",
        "  c = secon_atrr\n",
        "  ax[0].plot(data[c],y_pred,'o',color='blue')\n",
        "  ax[0].set_xlabel(c)\n",
        "  ax[0].set_ylabel(main_atrr+'(pred)')\n",
        "  ax[1].plot(data[c],data[main_atrr],'o',color='red')\n",
        "  ax[1].set_xlabel(c)\n",
        "  ax[1].set_ylabel(main_atrr)\n",
        "\n",
        "print('data1')\n",
        "vis_pr(data1,l[0],'AveragePrice',y_pred)"
      ],
      "execution_count": null,
      "outputs": [
        {
          "output_type": "stream",
          "name": "stdout",
          "text": [
            "data1\n"
          ]
        },
        {
          "output_type": "display_data",
          "data": {
            "image/png": "[encoded data removed]",
            "text/plain": [
              "<Figure size 432x288 with 2 Axes>"
            ]
          },
          "metadata": {
            "needs_background": "light"
          }
        }
      ]
    },
    {
      "cell_type": "code",
      "metadata": {
        "colab": {
          "base_uri": "https://localhost:8080/",
          "height": 294
        },
        "id": "we7P_qN2xOmD",
        "outputId": "6b8bf713-debf-41ed-bc89-a5cb91f5364c"
      },
      "source": [
        "print('data2')\n",
        "y_pred = grid2.best_estimator_.predict(X2)\n",
        "vis_pr(data2,lp,'avg price',y_pred)"
      ],
      "execution_count": null,
      "outputs": [
        {
          "output_type": "stream",
          "name": "stdout",
          "text": [
            "data2\n"
          ]
        },
        {
          "output_type": "display_data",
          "data": {
            "image/png": "[encoded data removed]",
            "text/plain": [
              "<Figure size 432x288 with 2 Axes>"
            ]
          },
          "metadata": {
            "needs_background": "light"
          }
        }
      ]
    },
    {
      "cell_type": "markdown",
      "metadata": {
        "id": "-gUQpoi4MJAX"
      },
      "source": [
        "# Якість моделей по метрикам $ R^2 $, RMSE, MAE та MAPE :"
      ]
    },
    {
      "cell_type": "code",
      "metadata": {
        "colab": {
          "base_uri": "https://localhost:8080/"
        },
        "id": "98ffPBaYNgk2",
        "outputId": "3d493834-0eb3-4d73-a0ca-30598362f6a3"
      },
      "source": [
        "print('data1')\n",
        "s={}\n",
        "X1_train, X1_test, y1_train, y1_test = sk.model_selection.train_test_split(X1, y1, test_size=0.7, random_state=1)\n",
        "regr1 = SVR(kernel='poly',degree=p1['degree'],C=p1['C'],epsilon=p1['epsilon']).fit(X1_train,y1_train)\n",
        "y_predtr = regr1.predict(X1_train)\n",
        "y_predts = regr1.predict(X1_test)\n",
        "y_predtr = np.exp(y_predtr)-1\n",
        "y_predts = np.exp(y_predts)-1\n",
        "y1_train = np.exp(y1_train)-1\n",
        "y1_test = np.exp(y1_test)-1\n",
        "\n",
        "r2_train = metrics.r2_score(y1_train, y_predtr)\n",
        "s['r2_train'] = r2_train\n",
        "r2_test = metrics.r2_score(y1_test, y_predts)\n",
        "s['r2_test'] = r2_test\n",
        "rmse_train = metrics.mean_squared_error(y1_train, y_predtr)\n",
        "s['rmse_train'] = rmse_train\n",
        "rmse_test = metrics.mean_squared_error(y1_test, y_predts)\n",
        "s['rmse_test'] = rmse_test\n",
        "mae_train = metrics.mean_absolute_error(y1_train, y_predtr)\n",
        "s['mae_train'] = mae_train\n",
        "mae_test = metrics.mean_absolute_error(y1_test, y_predts)\n",
        "s['mae_test'] = mae_test\n",
        "mape_train = mape(y1_train, y_predtr)\n",
        "s['mape_train'] = mape_train\n",
        "mape_test = mape(y1_test, y_predts)\n",
        "s['mape_test'] = mape_test\n",
        "\n",
        "for i in s.keys():\n",
        "  print(i+'='+str(s[i]))\n"
      ],
      "execution_count": null,
      "outputs": [
        {
          "output_type": "stream",
          "name": "stdout",
          "text": [
            "data1\n",
            "r2_train=0.5398819629823646\n",
            "r2_test=0.542833519979796\n",
            "rmse_train=0.07383155478978635\n",
            "rmse_test=0.07444692095267276\n",
            "mae_train=0.2096375660778228\n",
            "mae_test=0.21074091060919886\n",
            "mape_train=0.15870646360091425\n",
            "mape_test=0.15860647146590467\n"
          ]
        }
      ]
    },
    {
      "cell_type": "code",
      "metadata": {
        "colab": {
          "base_uri": "https://localhost:8080/"
        },
        "id": "Njt8T6gO5cCb",
        "outputId": "bc40d6de-eef5-4c3e-f1e5-4b32cbce6ac3"
      },
      "source": [
        "print('data2')\n",
        "s={}\n",
        "X2_train, X2_test, y2_train, y2_test = sk.model_selection.train_test_split(X2, y2, test_size=0.4, random_state=1)\n",
        "regr2 = SVR(kernel='poly',degree=p2['degree'],C=p2['C'],epsilon=p2['epsilon']).fit(X2_train,y2_train)\n",
        "y_predtr = regr2.predict(X2_train)\n",
        "y_predts = regr2.predict(X2_test)\n",
        "\n",
        "r2_train = metrics.r2_score(y2_train, y_predtr)\n",
        "s['r2_train'] = r2_train\n",
        "r2_test = metrics.r2_score(y2_test, y_predts)\n",
        "s['r2_test'] = r2_test\n",
        "rmse_train = metrics.mean_squared_error(y2_train, y_predtr)\n",
        "s['rmse_train'] = rmse_train\n",
        "rmse_test = metrics.mean_squared_error(y2_test, y_predts)\n",
        "s['rmse_test'] = rmse_test\n",
        "mae_train = metrics.mean_absolute_error(y2_train, y_predtr)\n",
        "s['mae_train'] = mae_train\n",
        "mae_test = metrics.mean_absolute_error(y2_test, y_predts)\n",
        "s['mae_test'] = mae_test\n",
        "mape_train = mape(y2_train, y_predtr)\n",
        "s['mape_train'] = mape_train\n",
        "mape_test = mape(y2_test, y_predts)\n",
        "s['mape_test'] = mape_test\n",
        "\n",
        "for i in s.keys():\n",
        "  print(i+'='+str(s[i]))"
      ],
      "execution_count": null,
      "outputs": [
        {
          "output_type": "stream",
          "name": "stdout",
          "text": [
            "data2\n",
            "r2_train=0.9852485425125882\n",
            "r2_test=0.9862259030252686\n",
            "rmse_train=8666928.607022662\n",
            "rmse_test=7227886.558404209\n",
            "mae_train=2142.777743528703\n",
            "mae_test=1705.4726650567382\n",
            "mape_train=0.05283398970886738\n",
            "mape_test=0.040953584413755496\n"
          ]
        }
      ]
    },
    {
      "cell_type": "code",
      "metadata": {
        "colab": {
          "base_uri": "https://localhost:8080/"
        },
        "id": "TdRpzJP5e8Lj",
        "outputId": "65d6bf91-fc13-4dd1-8b02-cb51fa85ff08"
      },
      "source": [
        "y2.var()"
      ],
      "execution_count": null,
      "outputs": [
        {
          "output_type": "execute_result",
          "data": {
            "text/plain": [
              "562364099.6696222"
            ]
          },
          "metadata": {},
          "execution_count": 19
        }
      ]
    },
    {
      "cell_type": "markdown",
      "metadata": {
        "id": "OIVsvsoR2fsP"
      },
      "source": [
        "# Oпорні вектори"
      ]
    },
    {
      "cell_type": "code",
      "metadata": {
        "id": "nEb9eFWY57Qy"
      },
      "source": [
        "print('Support vectors for data1:')\n",
        "print('n_vectors = '+str(regr1.support_vectors_.shape[0]))\n",
        "print(regr1.support_vectors_)\n",
        "print('Support vectors for data2:')\n",
        "print('n_vectors = '+str(regr2.support_vectors_.shape[0]))\n",
        "print(regr2.support_vectors_)"
      ],
      "execution_count": null,
      "outputs": []
    },
    {
      "cell_type": "markdown",
      "metadata": {
        "id": "-KSlBIJJwmGP"
      },
      "source": [
        "Conclusion :\n",
        "Перша модель регресії методом опорних векторів добре мінімузує\n",
        "метрику mean_squared_error, а друга - r2_score, тобто в першому випадку похибка прогнозів відносно дисперсії вибірки досить велика, хоча абсолютне значення цієї похбки, частково через досить малу дисперсію, невелике, в другому випадку навпаки - дуже велика дисперсія вибірки і гарно мінімізується коефіцієнт детермінації. В принципі в обох наборах даних модель гарно відчуває характер цільової змінної, тобто якщо зростає(спадає) цільова змінна, то теж саме відбувається і з передбаченнями.\n",
        "В першому випадку розмір навчальної вибірки особливо не впливає на якість моделі,хіба що він буде дуже маленький(<20%), в другому - дещо схожа ситуація, однак там модель все ж більш чутлива до розміру навчальної вибірки(якщо він <35%, то якість моделі сильно падає, можливо це тому що сам набір даних є досить невеликим)."
      ]
    }
  ]
}