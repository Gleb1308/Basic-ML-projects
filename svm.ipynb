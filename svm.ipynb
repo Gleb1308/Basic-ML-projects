{
  "nbformat": 4,
  "nbformat_minor": 0,
  "metadata": {
    "colab": {
      "provenance": []
    },
    "kernelspec": {
      "display_name": "Python 3",
      "name": "python3"
    },
    "language_info": {
      "name": "python"
    }
  },
  "cells": [
    {
      "cell_type": "code",
      "metadata": {
        "colab": {
          "base_uri": "https://localhost:8080/"
        },
        "id": "8IOpxVEaODE6",
        "outputId": "242d2274-5568-4943-af58-3c7e7dd9930e"
      },
      "source": [
        "import numpy as np\n",
        "import pandas as pd\n",
        "import matplotlib.pyplot as plt\n",
        "import sklearn as sk\n",
        "from sklearn.svm import SVR\n",
        "from sklearn import metrics\n",
        "from google.colab import drive\n",
        "plt.style.use('seaborn-whitegrid')\n",
        "drive.mount('/content/drive')"
      ],
      "execution_count": null,
      "outputs": [
        {
          "output_type": "stream",
          "name": "stdout",
          "text": [
            "Mounted at /content/drive\n"
          ]
        }
      ]
    },
    {
      "cell_type": "code",
      "metadata": {
        "id": "XjdlErdbLf_u"
      },
      "source": [
        "def mape(y_true, y_pred, e=1e-10):\n",
        "  y = np.concatenate([np.abs(y_true),e*np.ones(y_true.size)]).reshape(2,y_true.size)\n",
        "  return np.mean(np.abs(y_true - y_pred) / np.max(y,axis=0))"
      ],
      "execution_count": null,
      "outputs": []
    },
    {
      "cell_type": "markdown",
      "metadata": {
        "id": "VTGwlV_lO3b3"
      },
      "source": [
        "Data preparing"
      ]
    },
    {
      "cell_type": "code",
      "metadata": {
        "id": "W7Is5lUaRHJZ"
      },
      "source": [
        "np.random.seed(1)\n",
        "data1 = pd.read_csv('/content/drive/My Drive/Colab_Notebooks/svm/avocado_prices - avocado_prices.csv').drop(['Unnamed: 0'],axis=1)\n",
        "data2 = pd.read_csv('/content/drive/My Drive/Colab_Notebooks/svm/Shanghai license plate price - Sheet3.csv')\n",
        "date1 = pd.to_datetime(data1['Date'])\n",
        "data1['month'] = date1.dt.month\n",
        "data1['day'] = date1.dt.day\n",
        "\n",
        "data1['type'] = data1['type'].replace(['conventional','organic'],[0,1])\n",
        "countr = data1['region'].unique()\n",
        "data1['region'] = data1['region'].replace(countr,np.arange(countr.size))\n",
        "\n",
        "date2 = pd.to_datetime(data2['Date'],format='%b-%d')\n",
        "data2['month'] = date2.dt.month\n",
        "data2['day'] = date2.dt.day\n",
        "lp = data2.columns[2]"
      ],
      "execution_count": null,
      "outputs": []
    },
    {
      "cell_type": "markdown",
      "metadata": {
        "id": "-ZfV_jf0Qwtz"
      },
      "source": [
        "Visualisation and preprocessing"
      ]
    },
    {
      "cell_type": "code",
      "metadata": {
        "id": "HeGLeuLCQ6ob",
        "colab": {
          "base_uri": "https://localhost:8080/",
          "height": 276
        },
        "outputId": "a6922c66-aa8c-48a8-96f9-d5fb9a5a67d2"
      },
      "source": [
        "def vis(data,main_atrr,secon):\n",
        "  y = data[main_atrr]\n",
        "  x = data[secon]\n",
        "  plt.plot(x,y,'o')\n",
        "  plt.xlabel(secon)\n",
        "  plt.ylabel(main_atrr)\n",
        "\n",
        "vis(data1,'AveragePrice','XLarge Bags')"
      ],
      "execution_count": null,
      "outputs": [
        {
          "output_type": "display_data",
          "data": {
            "image/png": "[encoded data removed]",
            "text/plain": [
              "<Figure size 432x288 with 1 Axes>"
            ]
          },
          "metadata": {
            "needs_background": "light"
          }
        }
      ]
    },
    {
      "cell_type": "code",
      "metadata": {
        "id": "QdVus80ZgXs-",
        "colab": {
          "base_uri": "https://localhost:8080/",
          "height": 276
        },
        "outputId": "4fbb334b-496a-4b39-f582-3a472b07d20d"
      },
      "source": [
        "vis(data2,'avg price',lp)"
      ],
      "execution_count": null,
      "outputs": [
        {
          "output_type": "display_data",
          "data": {
            "image/png": "[encoded data removed]",
            "text/plain": [
              "<Figure size 432x288 with 1 Axes>"
            ]
          },
          "metadata": {
            "needs_background": "light"
          }
        }
      ]
    },
    {
      "cell_type": "markdown",
      "metadata": {
        "id": "7TXn3cCFwFze"
      },
      "source": [
        "эту херь лучше не делай, то неё не особо много пользы и при этом может спалить"
      ]
    },
    {
      "cell_type": "code",
      "metadata": {
        "id": "wfYSxfu8stAZ",
        "colab": {
          "base_uri": "https://localhost:8080/",
          "height": 276
        },
        "outputId": "977f9e15-3571-4d46-ec35-3050bde4c9c3"
      },
      "source": [
        "l = ['AveragePrice',\t'Total Volume',\t'4046',\t'4225',\t'4770',\t'Total Bags',\t'Small Bags',\t'Large Bags',\t'XLarge Bags']\n",
        "data1[l] = np.log(data1[l]+1)\n",
        "vis(data1,'AveragePrice','XLarge Bags')"
      ],
      "execution_count": null,
      "outputs": [
        {
          "output_type": "display_data",
          "data": {
            "image/png": "[encoded data removed]",
            "text/plain": [
              "<Figure size 432x288 with 1 Axes>"
            ]
          },
          "metadata": {
            "needs_background": "light"
          }
        }
      ]
    },
    {
      "cell_type": "markdown",
      "metadata": {
        "id": "OtAGh_O0w6JR"
      },
      "source": [
        "размещаем целевую переменную в один массив, все остальные данные формируем в двумерный массив(в первом наборе данных ещё нормализируем данные: отнимаем среднее и делим на среднее квадратическое)"
      ]
    },
    {
      "cell_type": "code",
      "metadata": {
        "id": "i1bvo2cE2OIu"
      },
      "source": [
        "l = ['Total Volume',\t'4046',\t'4225',\t'4770',\t'Total Bags',\t'Small Bags',\t'Large Bags',\t'XLarge Bags']\n",
        "y1 = np.array(data1['AveragePrice'])\n",
        "data1[l] = (data1[l]-data1[l].mean())/data1[l].std()\n",
        "data12 = data1.copy().drop(['Date','AveragePrice'],axis=1)\n",
        "X1 = np.array(data12)\n",
        "\n",
        "\n",
        "y2 = np.array(data2['avg price'])\n",
        "data22 = data2.copy().drop(['Date','avg price'], axis=1)\n",
        "X2 = np.array(data22)"
      ],
      "execution_count": null,
      "outputs": []
    },
    {
      "cell_type": "markdown",
      "metadata": {
        "id": "pi1MBWg0UARy"
      },
      "source": [
        "Modelling"
      ]
    },
    {
      "cell_type": "markdown",
      "metadata": {
        "id": "ylrXAOpU1EK2"
      },
      "source": [
        "решітчастий пошук гіперпараметрів, в списки c,e,d потрібно підставити різні значення щоб знайти оптимальні параметри"
      ]
    },
    {
      "cell_type": "code",
      "metadata": {
        "id": "YAvWPNZ98jC8"
      },
      "source": [
        "#X1_train, X1_test, y1_train, y1_test = sk.model_selection.train_test_split(X1, y1, random_state=1)\n",
        "c = [1000]\n",
        "e = [0.01]\n",
        "d = [3]\n",
        "param = {'C': c ,'epsilon': e, 'degree': d }\n",
        "split = sk.model_selection.KFold(shuffle=True,random_state=1,n_splits=3)\n",
        "regr = SVR(kernel='poly')\n",
        "grid1 = sk.model_selection.GridSearchCV(regr,param,cv=split,scoring='neg_mean_squared_error').fit(X1,y1)\n",
        "#grid_1 = sk.model_selection.GridSearchCV(regr,param,cv=split).fit(X1_train,y1_train)\n",
        "#regr = grid1.best_estimator_"
      ],
      "execution_count": null,
      "outputs": []
    },
    {
      "cell_type": "code",
      "metadata": {
        "id": "qdfUnZAxdB_1"
      },
      "source": [
        "#X1_train, X1_test, y1_train, y1_test = sk.model_selection.train_test_split(X2, y2, random_state=1)\n",
        "c = np.linspace(1000,7000,num=10)\n",
        "e = np.linspace(1,5,num=5)\n",
        "d = [1,3,2]\n",
        "param = {'C': c ,'epsilon': e , 'degree': d }\n",
        "split = sk.model_selection.KFold(shuffle=True,random_state=1)\n",
        "regr = SVR(kernel='poly')\n",
        "grid2 = sk.model_selection.GridSearchCV(regr,param,cv=split).fit(X2,y2)\n",
        "#grid_2 = sk.model_selection.GridSearchCV(regr,param,cv=split).fit(X1_train,y1_train)\n",
        "#regr = grid1.best_estimator_"
      ],
      "execution_count": null,
      "outputs": []
    },
    {
      "cell_type": "code",
      "metadata": {
        "colab": {
          "base_uri": "https://localhost:8080/"
        },
        "id": "TCC5yEIXxHvl",
        "outputId": "98d6f089-51f2-4c1d-a57c-c881e19269c1"
      },
      "source": [
        "p1 = grid1.best_params_#лучшие параметры для первого набора данных\n",
        "p1"
      ],
      "execution_count": null,
      "outputs": [
        {
          "output_type": "execute_result",
          "data": {
            "text/plain": [
              "{'C': 1000, 'degree': 3, 'epsilon': 0.01}"
            ]
          },
          "metadata": {},
          "execution_count": 10
        }
      ]
    },
    {
      "cell_type": "code",
      "metadata": {
        "colab": {
          "base_uri": "https://localhost:8080/"
        },
        "id": "SZgnhMGlVsUH",
        "outputId": "25d83136-e088-46a0-dcb4-1a65d9d52ffb"
      },
      "source": [
        "p2 = grid2.best_params_#лучшие параметры для второго набора данных\n",
        "p2"
      ],
      "execution_count": null,
      "outputs": [
        {
          "output_type": "execute_result",
          "data": {
            "text/plain": [
              "{'C': 7000.0, 'degree': 1, 'epsilon': 5.0}"
            ]
          },
          "metadata": {},
          "execution_count": 11
        }
      ]
    },
    {
      "cell_type": "code",
      "metadata": {
        "colab": {
          "base_uri": "https://localhost:8080/"
        },
        "id": "bsa5aNZaxCFs",
        "outputId": "55e7a8e5-07c3-4625-ee93-f230252542cb"
      },
      "source": [
        "print(abs(grid1.best_score_))#лучший показатель метрики для первого набора данных"
      ],
      "execution_count": null,
      "outputs": [
        {
          "output_type": "stream",
          "name": "stdout",
          "text": [
            "0.011925134698016496\n"
          ]
        }
      ]
    },
    {
      "cell_type": "code",
      "metadata": {
        "colab": {
          "base_uri": "https://localhost:8080/"
        },
        "id": "RzwrDsuTVyKr",
        "outputId": "87d36e21-7e90-4140-c833-3cda76d8db24"
      },
      "source": [
        "print(grid2.best_score_)#лучший показатель метрики для второго набора данных"
      ],
      "execution_count": null,
      "outputs": [
        {
          "output_type": "stream",
          "name": "stdout",
          "text": [
            "0.9842458804125227\n"
          ]
        }
      ]
    },
    {
      "cell_type": "code",
      "metadata": {
        "id": "8kMZwnI2B4p5"
      },
      "source": [
        "regr.score(X1_test,y1_test)"
      ],
      "execution_count": null,
      "outputs": []
    },
    {
      "cell_type": "markdown",
      "metadata": {
        "id": "TAQdkU-DcfCg"
      },
      "source": [
        "Picture of predictions"
      ]
    },
    {
      "cell_type": "code",
      "metadata": {
        "id": "3j4q9R8OZyzq",
        "colab": {
          "base_uri": "https://localhost:8080/",
          "height": 294
        },
        "outputId": "23d31246-6d6d-4c4a-f65c-2e6e3122577a"
      },
      "source": [
        "y_pred = grid1.best_estimator_.predict(X1)\n",
        "\n",
        "def vis_pr(data,secon_atrr,main_atrr,y_pred):\n",
        "  fig,ax = plt.subplots(2)\n",
        "  c = secon_atrr\n",
        "  ax[0].plot(data[c],y_pred,'o',color='blue')\n",
        "  ax[0].set_xlabel(c)\n",
        "  ax[0].set_ylabel(main_atrr+'(pred)')\n",
        "  ax[1].plot(data[c],data[main_atrr],'o',color='red')\n",
        "  ax[1].set_xlabel(c)\n",
        "  ax[1].set_ylabel(main_atrr)\n",
        "\n",
        "print('data1')\n",
        "vis_pr(data1,l[0],'AveragePrice',y_pred)"
      ],
      "execution_count": null,
      "outputs": [
        {
          "output_type": "stream",
          "name": "stdout",
          "text": [
            "data1\n"
          ]
        },
        {
          "output_type": "display_data",
          "data": {
            "image/png": "[encoded data removed]",
            "text/plain": [
              "<Figure size 432x288 with 2 Axes>"
            ]
          },
          "metadata": {
            "needs_background": "light"
          }
        }
      ]
    },
    {
      "cell_type": "code",
      "metadata": {
        "colab": {
          "base_uri": "https://localhost:8080/",
          "height": 294
        },
        "id": "we7P_qN2xOmD",
        "outputId": "6b8bf713-debf-41ed-bc89-a5cb91f5364c"
      },
      "source": [
        "print('data2')\n",
        "y_pred = grid2.best_estimator_.predict(X2)\n",
        "vis_pr(data2,lp,'avg price',y_pred)"
      ],
      "execution_count": null,
      "outputs": [
        {
          "output_type": "stream",
          "name": "stdout",
          "text": [
            "data2\n"
          ]
        },
        {
          "output_type": "display_data",
          "data": {
            "image/png": "[encoded data removed]",
            "text/plain": [
              "<Figure size 432x288 with 2 Axes>"
            ]
          },
          "metadata": {
            "needs_background": "light"
          }
        }
      ]
    },
    {
      "cell_type": "markdown",
      "metadata": {
        "id": "-gUQpoi4MJAX"
      },
      "source": [
        "Якість моделей по метрикам $ R^2 $, RMSE, MAE та MAPE :"
      ]
    },
    {
      "cell_type": "code",
      "metadata": {
        "colab": {
          "base_uri": "https://localhost:8080/"
        },
        "id": "98ffPBaYNgk2",
        "outputId": "3d493834-0eb3-4d73-a0ca-30598362f6a3"
      },
      "source": [
        "print('data1')\n",
        "s={}\n",
        "X1_train, X1_test, y1_train, y1_test = sk.model_selection.train_test_split(X1, y1, test_size=0.7, random_state=1)\n",
        "regr1 = SVR(kernel='poly',degree=p1['degree'],C=p1['C'],epsilon=p1['epsilon']).fit(X1_train,y1_train)\n",
        "y_predtr = regr1.predict(X1_train)\n",
        "y_predts = regr1.predict(X1_test)\n",
        "y_predtr = np.exp(y_predtr)-1\n",
        "y_predts = np.exp(y_predts)-1\n",
        "y1_train = np.exp(y1_train)-1\n",
        "y1_test = np.exp(y1_test)-1\n",
        "\n",
        "r2_train = metrics.r2_score(y1_train, y_predtr)\n",
        "s['r2_train'] = r2_train\n",
        "r2_test = metrics.r2_score(y1_test, y_predts)\n",
        "s['r2_test'] = r2_test\n",
        "rmse_train = metrics.mean_squared_error(y1_train, y_predtr)\n",
        "s['rmse_train'] = rmse_train\n",
        "rmse_test = metrics.mean_squared_error(y1_test, y_predts)\n",
        "s['rmse_test'] = rmse_test\n",
        "mae_train = metrics.mean_absolute_error(y1_train, y_predtr)\n",
        "s['mae_train'] = mae_train\n",
        "mae_test = metrics.mean_absolute_error(y1_test, y_predts)\n",
        "s['mae_test'] = mae_test\n",
        "mape_train = mape(y1_train, y_predtr)\n",
        "s['mape_train'] = mape_train\n",
        "mape_test = mape(y1_test, y_predts)\n",
        "s['mape_test'] = mape_test\n",
        "\n",
        "for i in s.keys():\n",
        "  print(i+'='+str(s[i]))\n"
      ],
      "execution_count": null,
      "outputs": [
        {
          "output_type": "stream",
          "name": "stdout",
          "text": [
            "data1\n",
            "r2_train=0.5398819629823646\n",
            "r2_test=0.542833519979796\n",
            "rmse_train=0.07383155478978635\n",
            "rmse_test=0.07444692095267276\n",
            "mae_train=0.2096375660778228\n",
            "mae_test=0.21074091060919886\n",
            "mape_train=0.15870646360091425\n",
            "mape_test=0.15860647146590467\n"
          ]
        }
      ]
    },
    {
      "cell_type": "code",
      "metadata": {
        "colab": {
          "base_uri": "https://localhost:8080/"
        },
        "id": "Njt8T6gO5cCb",
        "outputId": "bc40d6de-eef5-4c3e-f1e5-4b32cbce6ac3"
      },
      "source": [
        "print('data2')\n",
        "s={}\n",
        "X2_train, X2_test, y2_train, y2_test = sk.model_selection.train_test_split(X2, y2, test_size=0.4, random_state=1)\n",
        "regr2 = SVR(kernel='poly',degree=p2['degree'],C=p2['C'],epsilon=p2['epsilon']).fit(X2_train,y2_train)\n",
        "y_predtr = regr2.predict(X2_train)\n",
        "y_predts = regr2.predict(X2_test)\n",
        "\n",
        "r2_train = metrics.r2_score(y2_train, y_predtr)\n",
        "s['r2_train'] = r2_train\n",
        "r2_test = metrics.r2_score(y2_test, y_predts)\n",
        "s['r2_test'] = r2_test\n",
        "rmse_train = metrics.mean_squared_error(y2_train, y_predtr)\n",
        "s['rmse_train'] = rmse_train\n",
        "rmse_test = metrics.mean_squared_error(y2_test, y_predts)\n",
        "s['rmse_test'] = rmse_test\n",
        "mae_train = metrics.mean_absolute_error(y2_train, y_predtr)\n",
        "s['mae_train'] = mae_train\n",
        "mae_test = metrics.mean_absolute_error(y2_test, y_predts)\n",
        "s['mae_test'] = mae_test\n",
        "mape_train = mape(y2_train, y_predtr)\n",
        "s['mape_train'] = mape_train\n",
        "mape_test = mape(y2_test, y_predts)\n",
        "s['mape_test'] = mape_test\n",
        "\n",
        "for i in s.keys():\n",
        "  print(i+'='+str(s[i]))"
      ],
      "execution_count": null,
      "outputs": [
        {
          "output_type": "stream",
          "name": "stdout",
          "text": [
            "data2\n",
            "r2_train=0.9852485425125882\n",
            "r2_test=0.9862259030252686\n",
            "rmse_train=8666928.607022662\n",
            "rmse_test=7227886.558404209\n",
            "mae_train=2142.777743528703\n",
            "mae_test=1705.4726650567382\n",
            "mape_train=0.05283398970886738\n",
            "mape_test=0.040953584413755496\n"
          ]
        }
      ]
    },
    {
      "cell_type": "code",
      "metadata": {
        "colab": {
          "base_uri": "https://localhost:8080/"
        },
        "id": "TdRpzJP5e8Lj",
        "outputId": "65d6bf91-fc13-4dd1-8b02-cb51fa85ff08"
      },
      "source": [
        "y2.var()"
      ],
      "execution_count": null,
      "outputs": [
        {
          "output_type": "execute_result",
          "data": {
            "text/plain": [
              "562364099.6696222"
            ]
          },
          "metadata": {},
          "execution_count": 19
        }
      ]
    },
    {
      "cell_type": "markdown",
      "metadata": {
        "id": "OIVsvsoR2fsP"
      },
      "source": [
        "рахуємо опорні вектори"
      ]
    },
    {
      "cell_type": "code",
      "metadata": {
        "id": "nEb9eFWY57Qy"
      },
      "source": [
        "print('Support vectors for data1:')\n",
        "print('n_vectors = '+str(regr1.support_vectors_.shape[0]))\n",
        "print(regr1.support_vectors_)\n",
        "print('Support vectors for data2:')\n",
        "print('n_vectors = '+str(regr2.support_vectors_.shape[0]))\n",
        "print(regr2.support_vectors_)"
      ],
      "execution_count": null,
      "outputs": []
    },
    {
      "cell_type": "markdown",
      "metadata": {
        "id": "-KSlBIJJwmGP"
      },
      "source": [
        "Conclusion :\n",
        "Перша модель регресії методом опорних векторів добре мінімузує\n",
        "метрику mean_squared_error, а друга - r2_score, тобто в першому випадку похибка прогнозів відносно дисперсії вибірки досить велика, хоча абсолютне значення цієї похбки, частково через досить малу дисперсію, невелике, в другому випадку навпаки - дуже велика дисперсія вибірки і гарно мінімізується коефіцієнт детермінації. В принципі в обох наборах даних модель гарно відчуває характер цільової змінної, тобто якщо зростає(спадає) цільова змінна, то теж саме відбувається і з передбаченнями.\n",
        "В першому випадку розмір навчальної вибірки особливо не впливає на якість моделі,хіба що він буде дуже маленький(<20%), в другому - дещо схожа ситуація, однак там модель все ж більш чутлива до розміру навчальної вибірки(якщо він <35%, то якість моделі сильно падає, можливо це тому що сам набір даних є досить невеликим)."
      ]
    }
  ]
}